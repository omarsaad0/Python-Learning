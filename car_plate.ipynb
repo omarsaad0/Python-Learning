{
 "cells": [
  {
   "cell_type": "code",
   "execution_count": 3,
   "metadata": {},
   "outputs": [
    {
     "name": "stdout",
     "output_type": "stream",
     "text": [
      "Collecting pytesseract\n",
      "  Using cached https://files.pythonhosted.org/packages/a3/c9/d6e8903482bd6fb994c32722831d15842dd8b614f94ad9ca735807252671/pytesseract-0.3.8.tar.gz\n",
      "    Complete output from command python setup.py egg_info:\n",
      "    Traceback (most recent call last):\n",
      "      File \"<string>\", line 1, in <module>\n",
      "      File \"C:\\Users\\OMARSA~1\\AppData\\Local\\Temp\\pip-install-azy_qpfp\\pytesseract\\setup.py\", line 4, in <module>\n",
      "        setup()\n",
      "      File \"D:\\Programes\\New folder\\envs\\python-cvcourse\\lib\\site-packages\\setuptools\\__init__.py\", line 140, in setup\n",
      "        return distutils.core.setup(**attrs)\n",
      "      File \"D:\\Programes\\New folder\\envs\\python-cvcourse\\lib\\distutils\\core.py\", line 121, in setup\n",
      "        dist.parse_config_files()\n",
      "      File \"D:\\Programes\\New folder\\envs\\python-cvcourse\\lib\\site-packages\\setuptools\\dist.py\", line 495, in parse_config_files\n",
      "        ignore_option_errors=ignore_option_errors)\n",
      "      File \"D:\\Programes\\New folder\\envs\\python-cvcourse\\lib\\site-packages\\setuptools\\config.py\", line 114, in parse_configuration\n",
      "        meta.parse()\n",
      "      File \"D:\\Programes\\New folder\\envs\\python-cvcourse\\lib\\site-packages\\setuptools\\config.py\", line 400, in parse\n",
      "        section_parser_method(section_options)\n",
      "      File \"D:\\Programes\\New folder\\envs\\python-cvcourse\\lib\\site-packages\\setuptools\\config.py\", line 373, in parse_section\n",
      "        self[name] = value\n",
      "      File \"D:\\Programes\\New folder\\envs\\python-cvcourse\\lib\\site-packages\\setuptools\\config.py\", line 177, in __setitem__\n",
      "        value = parser(value)\n",
      "      File \"D:\\Programes\\New folder\\envs\\python-cvcourse\\lib\\site-packages\\setuptools\\config.py\", line 466, in _parse_version\n",
      "        version = self._parse_attr(value, self.package_dir)\n",
      "      File \"D:\\Programes\\New folder\\envs\\python-cvcourse\\lib\\site-packages\\setuptools\\config.py\", line 323, in _parse_attr\n",
      "        module = import_module(module_name)\n",
      "      File \"D:\\Programes\\New folder\\envs\\python-cvcourse\\lib\\importlib\\__init__.py\", line 126, in import_module\n",
      "        return _bootstrap._gcd_import(name[level:], package, level)\n",
      "      File \"<frozen importlib._bootstrap>\", line 994, in _gcd_import\n",
      "      File \"<frozen importlib._bootstrap>\", line 971, in _find_and_load\n",
      "      File \"<frozen importlib._bootstrap>\", line 955, in _find_and_load_unlocked\n",
      "      File \"<frozen importlib._bootstrap>\", line 665, in _load_unlocked\n",
      "      File \"<frozen importlib._bootstrap_external>\", line 678, in exec_module\n",
      "      File \"<frozen importlib._bootstrap>\", line 219, in _call_with_frames_removed\n",
      "      File \"C:\\Users\\OMARSA~1\\AppData\\Local\\Temp\\pip-install-azy_qpfp\\pytesseract\\pytesseract\\__init__.py\", line 2, in <module>\n",
      "        from .pytesseract import ALTONotSupported\n",
      "      File \"C:\\Users\\OMARSA~1\\AppData\\Local\\Temp\\pip-install-azy_qpfp\\pytesseract\\pytesseract\\pytesseract.py\", line 39, in <module>\n",
      "        import pandas as pd\n",
      "      File \"D:\\Programes\\New folder\\envs\\python-cvcourse\\lib\\site-packages\\pandas\\__init__.py\", line 42, in <module>\n",
      "        from pandas.core.api import *\n",
      "      File \"D:\\Programes\\New folder\\envs\\python-cvcourse\\lib\\site-packages\\pandas\\core\\api.py\", line 10, in <module>\n",
      "        from pandas.core.groupby.groupby import Grouper\n",
      "      File \"D:\\Programes\\New folder\\envs\\python-cvcourse\\lib\\site-packages\\pandas\\core\\groupby\\__init__.py\", line 2, in <module>\n",
      "        from pandas.core.groupby.groupby import (\n",
      "      File \"D:\\Programes\\New folder\\envs\\python-cvcourse\\lib\\site-packages\\pandas\\core\\groupby\\groupby.py\", line 46, in <module>\n",
      "        from pandas.core.index import (Index, MultiIndex,\n",
      "      File \"D:\\Programes\\New folder\\envs\\python-cvcourse\\lib\\site-packages\\pandas\\core\\index.py\", line 2, in <module>\n",
      "        from pandas.core.indexes.api import *\n",
      "      File \"D:\\Programes\\New folder\\envs\\python-cvcourse\\lib\\site-packages\\pandas\\core\\indexes\\api.py\", line 4, in <module>\n",
      "        from pandas.core.indexes.base import (Index,\n",
      "      File \"D:\\Programes\\New folder\\envs\\python-cvcourse\\lib\\site-packages\\pandas\\core\\indexes\\base.py\", line 52, in <module>\n",
      "        import pandas.core.common as com\n",
      "    AttributeError: module 'pandas' has no attribute 'core'\n",
      "    \n",
      "    ----------------------------------------\n"
     ]
    },
    {
     "name": "stderr",
     "output_type": "stream",
     "text": [
      "Command \"python setup.py egg_info\" failed with error code 1 in C:\\Users\\OMARSA~1\\AppData\\Local\\Temp\\pip-install-azy_qpfp\\pytesseract\\\n",
      "You are using pip version 10.0.1, however version 21.2.4 is available.\n",
      "You should consider upgrading via the 'python -m pip install --upgrade pip' command.\n"
     ]
    }
   ],
   "source": [
    "!pip install pytesseract"
   ]
  },
  {
   "cell_type": "code",
   "execution_count": null,
   "metadata": {},
   "outputs": [],
   "source": []
  }
 ],
 "metadata": {
  "kernelspec": {
   "display_name": "Python 3",
   "language": "python",
   "name": "python3"
  },
  "language_info": {
   "codemirror_mode": {
    "name": "ipython",
    "version": 3
   },
   "file_extension": ".py",
   "mimetype": "text/x-python",
   "name": "python",
   "nbconvert_exporter": "python",
   "pygments_lexer": "ipython3",
   "version": "3.6.6"
  }
 },
 "nbformat": 4,
 "nbformat_minor": 2
}
